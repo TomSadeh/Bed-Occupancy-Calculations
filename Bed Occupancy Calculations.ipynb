{
 "cells": [
  {
   "cell_type": "markdown",
   "metadata": {},
   "source": [
    "# Bed Occupancy Calculations"
   ]
  },
  {
   "cell_type": "markdown",
   "metadata": {},
   "source": [
    "## Intro"
   ]
  },
  {
   "cell_type": "markdown",
   "metadata": {},
   "source": [
    "In this script we calculate the bed occupancy rate according to the formula supplied by the OECD, as follows:\n",
    "\"The occupancy rate is calculated as the number of beds effectively occupied (bed-days) for\n",
    "curative care (HC.1 in SHA classification) divided by the number of beds available for curative\n",
    "care multiplied by 365 days, with the ratio multiplied by 100.\"\n",
    "\n",
    "The official document whith the formula is provided in the supplementary materials. "
   ]
  },
  {
   "cell_type": "markdown",
   "metadata": {},
   "source": [
    "## The Script"
   ]
  },
  {
   "cell_type": "markdown",
   "metadata": {},
   "source": [
    "First we import the requaired Python libraries."
   ]
  },
  {
   "cell_type": "code",
   "execution_count": null,
   "metadata": {},
   "outputs": [],
   "source": [
    "import pandas as pd\n",
    "import numpy as np"
   ]
  },
  {
   "cell_type": "markdown",
   "metadata": {},
   "source": [
    "Then we import the data, which was downloaded from the OECD Database in 6/20/2021 and supplied in the supplementary materials. Enter the relevant file address here, and don't erase the 'r'."
   ]
  },
  {
   "cell_type": "code",
   "execution_count": null,
   "metadata": {},
   "outputs": [],
   "source": [
    "beds = pd.read_csv(r'\\Beds.csv')\n",
    "bed_days_and_occupancy = pd.read_csv(r'\\Bed-days.csv')"
   ]
  },
  {
   "cell_type": "markdown",
   "metadata": {},
   "source": [
    "After that, we select the relevant data from the csv files: acute beds number, bed-days number and occupancy rate."
   ]
  },
  {
   "cell_type": "code",
   "execution_count": null,
   "metadata": {},
   "outputs": [],
   "source": [
    "beds_relevant = beds[(beds['Variable'] == 'Curative (acute) care beds') & (beds['Measure'] == 'Number')]\n",
    "bed_days_relevant = bed_days_and_occupancy[(bed_days_and_occupancy['Variable'] == 'Curative care bed-days') & (bed_days_and_occupancy['Measure'] == 'Number')]\n",
    "occupancy_relevant = bed_days_and_occupancy[(bed_days_and_occupancy['Variable'] == 'Curative care occupancy rate') & (bed_days_and_occupancy['Measure'] == '% of available beds')]\n"
   ]
  },
  {
   "cell_type": "markdown",
   "metadata": {},
   "source": [
    "Then we pivot the three long tables we created."
   ]
  },
  {
   "cell_type": "code",
   "execution_count": null,
   "metadata": {},
   "outputs": [],
   "source": [
    "beds_pivoted = beds_relevant.pivot(index = 'Country', columns = 'Year', values = 'Value')\n",
    "bed_days_pivoted = bed_days_relevant.pivot(index = 'Country', columns = 'Year', values = 'Value')\n",
    "occupancy_pivoted = occupancy_relevant.pivot(index = 'Country', columns = 'Year', values = 'Value')"
   ]
  },
  {
   "cell_type": "markdown",
   "metadata": {},
   "source": [
    "According to the formula, the number of beds needs to be multipied by 365, so we do that."
   ]
  },
  {
   "cell_type": "code",
   "execution_count": null,
   "metadata": {},
   "outputs": [],
   "source": [
    "beds_yearly_pivoted = beds_pivoted * 365"
   ]
  },
  {
   "cell_type": "markdown",
   "metadata": {},
   "source": [
    "According to the formula, we divide the bed-days and the beds, and then multiply the results by 100."
   ]
  },
  {
   "cell_type": "code",
   "execution_count": null,
   "metadata": {},
   "outputs": [],
   "source": [
    "combined_df = (bed_days_pivoted.combine(beds_yearly_pivoted, func = np.divide))\n",
    "combined_df *= 100"
   ]
  },
  {
   "cell_type": "markdown",
   "metadata": {},
   "source": [
    "To get the difference between the OECD rates and the calculated rates we subtract one from the other.\n"
   ]
  },
  {
   "cell_type": "code",
   "execution_count": null,
   "metadata": {},
   "outputs": [],
   "source": [
    "calc_results = occupancy_pivoted - combined_df"
   ]
  },
  {
   "cell_type": "markdown",
   "metadata": {},
   "source": [
    "Finally, we export the results. Again, Enter the relevant file address here, and don't erase the 'r'."
   ]
  },
  {
   "cell_type": "code",
   "execution_count": null,
   "metadata": {},
   "outputs": [],
   "source": [
    "calc_results.to_csv(r'')"
   ]
  }
 ],
 "metadata": {
  "kernelspec": {
   "display_name": "Python 3",
   "language": "python",
   "name": "python3"
  },
  "language_info": {
   "codemirror_mode": {
    "name": "ipython",
    "version": 3
   },
   "file_extension": ".py",
   "mimetype": "text/x-python",
   "name": "python",
   "nbconvert_exporter": "python",
   "pygments_lexer": "ipython3",
   "version": "3.8.5"
  }
 },
 "nbformat": 4,
 "nbformat_minor": 4
}
